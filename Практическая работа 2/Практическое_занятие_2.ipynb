{
 "cells": [
  {
   "cell_type": "markdown",
   "metadata": {},
   "source": [
    "# Практическое задание № 2\n",
    "\n",
    "## Выполнил: Филиппова Екатерина Викторовна"
   ]
  },
  {
   "cell_type": "markdown",
   "metadata": {},
   "source": [
    "**Задание:** \n"
   ]
  },
  {
   "cell_type": "markdown",
   "metadata": {},
   "source": [
    "<font color=\"red\">Уважаемые слушатели, перед началом выполнения данной практический работы, пожалуйста, ознакомтесь со всеми материалами на платформе Odin по темам 4.1 и 4.2!</font>\n",
    "\n",
    "* 1. Загрузить данные с файла расширения csv (adult.data.csv)\n",
    "* 2. Провести очистку данных\n",
    "* 3. С помощью библиотеки Pandas ответить на несколько вопросов по данным набора Adult по доходу населения, каждый объект которого содержит социальные характеристики некоторого человека (возраст, пол, профессиональная деятельность и т.п.).\n",
    "* 4. Выполните запись результатов в файл с разделителями.\n",
    "* 5. Опубликуйте файл расширения ipynb на платформу Odin.\t\t\t\t\t"
   ]
  },
  {
   "cell_type": "markdown",
   "metadata": {},
   "source": [
    "Уникальные значения признаков набора Adult по доходу населения:\n",
    " * age: возраст\n",
    " * workclass: вид работы: Частный, без оплаты, никогда не работал и т.д.\n",
    " * fnlwgt: вес кейса\n",
    " * education: уровень образования: Бакалавриат, Некоторые колледжи, 11-й, Высшая степень, Профессиональная школа, Доцент-acdm, Assoc-voc, 9-й, 7-8-й, 12-й, Магистр, 1-4-й, 10-й, Докторантура, 5-й-6-й, Дошкольное.\n",
    " * education-num: код уровня образования.\n",
    " * marital-status: статус гражданина: Женат-гражданская супруга, Разведен, Никогда не состоял в браке, Раздельно, Вдова, Женат-супруга-отсутствует, Женат-AF-супруга.\n",
    " * occupation: род занятий \n",
    " * relationship: Жена, Собственный ребенок, Муж, Не член семьи, Другой родственник, Неженатый.\n",
    " * race: расса\n",
    " * sex: пол: Женщина мужчина.\n",
    " * capital-gain: Прибыль (число)\n",
    " * capital-loss: Затраты\n",
    " * hours-per-week: количество часов в неделю.\n",
    " * native-country: страна\n",
    " * salary: уровень дохода: > 50 тыс., <= 50 тыс."
   ]
  },
  {
   "cell_type": "code",
   "execution_count": 1,
   "metadata": {},
   "outputs": [],
   "source": [
    "import numpy as np\n",
    "import pandas as pd\n",
    "\n",
    "pd.set_option(\"display.max_columns\", 100)\n",
    "pd.set_option(\"display.max_rows\", 100)"
   ]
  },
  {
   "cell_type": "markdown",
   "metadata": {},
   "source": [
    "## 1. Загрузка данных с файла csv"
   ]
  },
  {
   "cell_type": "code",
   "execution_count": 2,
   "metadata": {
    "scrolled": true
   },
   "outputs": [
    {
     "data": {
      "text/html": [
       "<div>\n",
       "<style scoped>\n",
       "    .dataframe tbody tr th:only-of-type {\n",
       "        vertical-align: middle;\n",
       "    }\n",
       "\n",
       "    .dataframe tbody tr th {\n",
       "        vertical-align: top;\n",
       "    }\n",
       "\n",
       "    .dataframe thead th {\n",
       "        text-align: right;\n",
       "    }\n",
       "</style>\n",
       "<table border=\"1\" class=\"dataframe\">\n",
       "  <thead>\n",
       "    <tr style=\"text-align: right;\">\n",
       "      <th></th>\n",
       "      <th>age</th>\n",
       "      <th>workclass</th>\n",
       "      <th>fnlwgt</th>\n",
       "      <th>education</th>\n",
       "      <th>education-num</th>\n",
       "      <th>marital-status</th>\n",
       "      <th>occupation</th>\n",
       "      <th>relationship</th>\n",
       "      <th>race</th>\n",
       "      <th>sex</th>\n",
       "      <th>capital-gain</th>\n",
       "      <th>capital-loss</th>\n",
       "      <th>hours-per-week</th>\n",
       "      <th>native-country</th>\n",
       "      <th>salary</th>\n",
       "    </tr>\n",
       "  </thead>\n",
       "  <tbody>\n",
       "    <tr>\n",
       "      <th>0</th>\n",
       "      <td>39</td>\n",
       "      <td>State-gov</td>\n",
       "      <td>77516</td>\n",
       "      <td>Bachelors</td>\n",
       "      <td>13</td>\n",
       "      <td>Never-married</td>\n",
       "      <td>Adm-clerical</td>\n",
       "      <td>Not-in-family</td>\n",
       "      <td>White</td>\n",
       "      <td>Male</td>\n",
       "      <td>2174</td>\n",
       "      <td>0.0</td>\n",
       "      <td>40</td>\n",
       "      <td>United-States</td>\n",
       "      <td>&lt;=50K</td>\n",
       "    </tr>\n",
       "    <tr>\n",
       "      <th>1</th>\n",
       "      <td>50</td>\n",
       "      <td>Self-emp-not-inc</td>\n",
       "      <td>83311</td>\n",
       "      <td>Bachelors</td>\n",
       "      <td>13</td>\n",
       "      <td>Married-civ-spouse</td>\n",
       "      <td>Exec-managerial</td>\n",
       "      <td>Husband</td>\n",
       "      <td>White</td>\n",
       "      <td>Male</td>\n",
       "      <td>0</td>\n",
       "      <td>0.0</td>\n",
       "      <td>13</td>\n",
       "      <td>United-States</td>\n",
       "      <td>&lt;=50K</td>\n",
       "    </tr>\n",
       "    <tr>\n",
       "      <th>2</th>\n",
       "      <td>38</td>\n",
       "      <td>Private</td>\n",
       "      <td>215646</td>\n",
       "      <td>HS-grad</td>\n",
       "      <td>9</td>\n",
       "      <td>Divorced</td>\n",
       "      <td>Handlers-cleaners</td>\n",
       "      <td>Not-in-family</td>\n",
       "      <td>White</td>\n",
       "      <td>Male</td>\n",
       "      <td>0</td>\n",
       "      <td>0.0</td>\n",
       "      <td>40</td>\n",
       "      <td>United-States</td>\n",
       "      <td>&lt;=50K</td>\n",
       "    </tr>\n",
       "    <tr>\n",
       "      <th>3</th>\n",
       "      <td>53</td>\n",
       "      <td>Private</td>\n",
       "      <td>234721</td>\n",
       "      <td>11th</td>\n",
       "      <td>7</td>\n",
       "      <td>Married-civ-spouse</td>\n",
       "      <td>Handlers-cleaners</td>\n",
       "      <td>Husband</td>\n",
       "      <td>Black</td>\n",
       "      <td>Male</td>\n",
       "      <td>0</td>\n",
       "      <td>0.0</td>\n",
       "      <td>40</td>\n",
       "      <td>United-States</td>\n",
       "      <td>&lt;=50K</td>\n",
       "    </tr>\n",
       "    <tr>\n",
       "      <th>4</th>\n",
       "      <td>28</td>\n",
       "      <td>Private</td>\n",
       "      <td>338409</td>\n",
       "      <td>Bachelors</td>\n",
       "      <td>13</td>\n",
       "      <td>Married-civ-spouse</td>\n",
       "      <td>Prof-specialty</td>\n",
       "      <td>Wife</td>\n",
       "      <td>Black</td>\n",
       "      <td>Female</td>\n",
       "      <td>0</td>\n",
       "      <td>0.0</td>\n",
       "      <td>40</td>\n",
       "      <td>Cuba</td>\n",
       "      <td>&lt;=50K</td>\n",
       "    </tr>\n",
       "  </tbody>\n",
       "</table>\n",
       "</div>"
      ],
      "text/plain": [
       "   age         workclass  fnlwgt  education  education-num  \\\n",
       "0   39         State-gov   77516  Bachelors             13   \n",
       "1   50  Self-emp-not-inc   83311  Bachelors             13   \n",
       "2   38           Private  215646    HS-grad              9   \n",
       "3   53           Private  234721       11th              7   \n",
       "4   28           Private  338409  Bachelors             13   \n",
       "\n",
       "       marital-status         occupation   relationship   race     sex  \\\n",
       "0       Never-married       Adm-clerical  Not-in-family  White    Male   \n",
       "1  Married-civ-spouse    Exec-managerial        Husband  White    Male   \n",
       "2            Divorced  Handlers-cleaners  Not-in-family  White    Male   \n",
       "3  Married-civ-spouse  Handlers-cleaners        Husband  Black    Male   \n",
       "4  Married-civ-spouse     Prof-specialty           Wife  Black  Female   \n",
       "\n",
       "  capital-gain  capital-loss  hours-per-week native-country salary  \n",
       "0         2174           0.0              40  United-States  <=50K  \n",
       "1            0           0.0              13  United-States  <=50K  \n",
       "2            0           0.0              40  United-States  <=50K  \n",
       "3            0           0.0              40  United-States  <=50K  \n",
       "4            0           0.0              40           Cuba  <=50K  "
      ]
     },
     "execution_count": 2,
     "metadata": {},
     "output_type": "execute_result"
    }
   ],
   "source": [
    "df = pd.read_csv('adult.data.csv')\n",
    "pd.set_option(\"display.precision\", 1)\n",
    "df.head()"
   ]
  },
  {
   "cell_type": "code",
   "execution_count": 3,
   "metadata": {},
   "outputs": [
    {
     "name": "stdout",
     "output_type": "stream",
     "text": [
      "(32561, 15)\n"
     ]
    }
   ],
   "source": [
    "print(df.shape)"
   ]
  },
  {
   "cell_type": "code",
   "execution_count": 9,
   "metadata": {},
   "outputs": [
    {
     "name": "stdout",
     "output_type": "stream",
     "text": [
      "0        False\n",
      "1        False\n",
      "2        False\n",
      "3        False\n",
      "4        False\n",
      "         ...  \n",
      "32556    False\n",
      "32557    False\n",
      "32558    False\n",
      "32559    False\n",
      "32560    False\n",
      "Length: 32561, dtype: bool\n"
     ]
    }
   ],
   "source": [
    "dub = df.duplicated()\n",
    "for i in dub:\n",
    "    if i[1] = True"
   ]
  },
  {
   "cell_type": "markdown",
   "metadata": {},
   "source": [
    "### Анализ статистических характеристик"
   ]
  },
  {
   "cell_type": "code",
   "execution_count": 4,
   "metadata": {},
   "outputs": [
    {
     "data": {
      "text/html": [
       "<div>\n",
       "<style scoped>\n",
       "    .dataframe tbody tr th:only-of-type {\n",
       "        vertical-align: middle;\n",
       "    }\n",
       "\n",
       "    .dataframe tbody tr th {\n",
       "        vertical-align: top;\n",
       "    }\n",
       "\n",
       "    .dataframe thead th {\n",
       "        text-align: right;\n",
       "    }\n",
       "</style>\n",
       "<table border=\"1\" class=\"dataframe\">\n",
       "  <thead>\n",
       "    <tr style=\"text-align: right;\">\n",
       "      <th></th>\n",
       "      <th>age</th>\n",
       "      <th>fnlwgt</th>\n",
       "      <th>education-num</th>\n",
       "      <th>capital-loss</th>\n",
       "      <th>hours-per-week</th>\n",
       "    </tr>\n",
       "  </thead>\n",
       "  <tbody>\n",
       "    <tr>\n",
       "      <th>count</th>\n",
       "      <td>32561.0</td>\n",
       "      <td>3.3e+04</td>\n",
       "      <td>32561.0</td>\n",
       "      <td>32554.0</td>\n",
       "      <td>32561.0</td>\n",
       "    </tr>\n",
       "    <tr>\n",
       "      <th>mean</th>\n",
       "      <td>38.6</td>\n",
       "      <td>1.9e+05</td>\n",
       "      <td>10.1</td>\n",
       "      <td>87.3</td>\n",
       "      <td>40.4</td>\n",
       "    </tr>\n",
       "    <tr>\n",
       "      <th>std</th>\n",
       "      <td>13.6</td>\n",
       "      <td>1.1e+05</td>\n",
       "      <td>2.6</td>\n",
       "      <td>403.0</td>\n",
       "      <td>12.3</td>\n",
       "    </tr>\n",
       "    <tr>\n",
       "      <th>min</th>\n",
       "      <td>17.0</td>\n",
       "      <td>1.2e+04</td>\n",
       "      <td>1.0</td>\n",
       "      <td>0.0</td>\n",
       "      <td>1.0</td>\n",
       "    </tr>\n",
       "    <tr>\n",
       "      <th>25%</th>\n",
       "      <td>28.0</td>\n",
       "      <td>1.2e+05</td>\n",
       "      <td>9.0</td>\n",
       "      <td>0.0</td>\n",
       "      <td>40.0</td>\n",
       "    </tr>\n",
       "    <tr>\n",
       "      <th>50%</th>\n",
       "      <td>37.0</td>\n",
       "      <td>1.8e+05</td>\n",
       "      <td>10.0</td>\n",
       "      <td>0.0</td>\n",
       "      <td>40.0</td>\n",
       "    </tr>\n",
       "    <tr>\n",
       "      <th>75%</th>\n",
       "      <td>48.0</td>\n",
       "      <td>2.4e+05</td>\n",
       "      <td>12.0</td>\n",
       "      <td>0.0</td>\n",
       "      <td>45.0</td>\n",
       "    </tr>\n",
       "    <tr>\n",
       "      <th>max</th>\n",
       "      <td>90.0</td>\n",
       "      <td>1.5e+06</td>\n",
       "      <td>16.0</td>\n",
       "      <td>4356.0</td>\n",
       "      <td>99.0</td>\n",
       "    </tr>\n",
       "  </tbody>\n",
       "</table>\n",
       "</div>"
      ],
      "text/plain": [
       "           age   fnlwgt  education-num  capital-loss  hours-per-week\n",
       "count  32561.0  3.3e+04        32561.0       32554.0         32561.0\n",
       "mean      38.6  1.9e+05           10.1          87.3            40.4\n",
       "std       13.6  1.1e+05            2.6         403.0            12.3\n",
       "min       17.0  1.2e+04            1.0           0.0             1.0\n",
       "25%       28.0  1.2e+05            9.0           0.0            40.0\n",
       "50%       37.0  1.8e+05           10.0           0.0            40.0\n",
       "75%       48.0  2.4e+05           12.0           0.0            45.0\n",
       "max       90.0  1.5e+06           16.0        4356.0            99.0"
      ]
     },
     "execution_count": 4,
     "metadata": {},
     "output_type": "execute_result"
    }
   ],
   "source": [
    "# Ваш код здесь\n",
    "df.describe()"
   ]
  },
  {
   "cell_type": "markdown",
   "metadata": {},
   "source": [
    "## 2. Очистка данных\n",
    "\n",
    "Далеко не каждый набор данных представляет собой идеально подобранное множество наблюдений, без аномалий и пропущенных значений. В реальных данных мало порядка, так что прежде чем приступить к анализу, их нужно очистить и привести к приемлемому формату. Очистка данных — неприятная, но обязательная процедура при решении большинства задач по анализу данных."
   ]
  },
  {
   "cell_type": "markdown",
   "metadata": {},
   "source": [
    "### Типы данных и обработка пропусков\n",
    "\n",
    "Есть еще одна проблема — отсутствующие значения, помеченные как «Not Available». Это строковое значение в Python, которое означает, что даже строки с числами будут храниться как типы данных object, потому что если в колонке есть какая-нибудь строковая, Pandas конвертирует её в колонку, полностью состоящую из строковых. Типы данных колонок можно узнать с помощью метода dataframe.info():"
   ]
  },
  {
   "cell_type": "code",
   "execution_count": 5,
   "metadata": {
    "scrolled": false
   },
   "outputs": [
    {
     "name": "stdout",
     "output_type": "stream",
     "text": [
      "<class 'pandas.core.frame.DataFrame'>\n",
      "RangeIndex: 32561 entries, 0 to 32560\n",
      "Data columns (total 15 columns):\n",
      " #   Column          Non-Null Count  Dtype  \n",
      "---  ------          --------------  -----  \n",
      " 0   age             32561 non-null  int64  \n",
      " 1   workclass       32561 non-null  object \n",
      " 2   fnlwgt          32561 non-null  int64  \n",
      " 3   education       32561 non-null  object \n",
      " 4   education-num   32561 non-null  int64  \n",
      " 5   marital-status  32561 non-null  object \n",
      " 6   occupation      32561 non-null  object \n",
      " 7   relationship    32561 non-null  object \n",
      " 8   race            32561 non-null  object \n",
      " 9   sex             32561 non-null  object \n",
      " 10  capital-gain    32561 non-null  object \n",
      " 11  capital-loss    32554 non-null  float64\n",
      " 12  hours-per-week  32561 non-null  int64  \n",
      " 13  native-country  32561 non-null  object \n",
      " 14  salary          32561 non-null  object \n",
      "dtypes: float64(1), int64(4), object(10)\n",
      "memory usage: 3.7+ MB\n"
     ]
    }
   ],
   "source": [
    "# Ваш код здесь\n",
    "df.info()"
   ]
  },
  {
   "cell_type": "markdown",
   "metadata": {},
   "source": [
    "Наверняка некоторые колонки, которые явно содержат числа, сохранены как объекты. Мы не можем применять числовой анализ к строковым значениям, так что конвертируем их в числовые типы данных (особенно float)! "
   ]
  },
  {
   "cell_type": "markdown",
   "metadata": {},
   "source": [
    "**Столбец <code>capital-gain</code> должен иметь тип <code>float</code>. Проверим какие там есть значения**"
   ]
  },
  {
   "cell_type": "code",
   "execution_count": 6,
   "metadata": {},
   "outputs": [
    {
     "data": {
      "text/plain": [
       "array(['2174', '0', '14084', '5o', '5f', 'h7', '5013', '2407', '14344',\n",
       "       '15024', '7688', '34095', '4064', '4386', '7298', '1409', '3674',\n",
       "       '1055', '5178', '3464', '2050', '2176', '594', '20051', '6849',\n",
       "       '4101', '1111', '8614', '3411', '2597', '25236', '4650', '9386',\n",
       "       '2463', '3103', '10605', '2964', '3325', '2580', '3471', '4865',\n",
       "       '99999', '6514', '1471', '2329', '2105', '2885', '25124', '10520',\n",
       "       '2202', '2961', '27828', '6767', '2228', '1506', '13550', '2635',\n",
       "       '5556', '4787', '3781', '3137', '3818', '3942', '914', '401',\n",
       "       '2829', '2977', '4934', '2062', '2354', '5455', '15020', '1424',\n",
       "       '3273', '22040', '4416', '3908', '10566', '991', '4931', '1086',\n",
       "       '7430', '6497', '114', '7896', '2346', '3418', '3432', '2907',\n",
       "       '1151', '2414', '2290', '15831', '41310', '4508', '2538', '3456',\n",
       "       '6418', '1848', '3887', '5721', '9562', '1455', '2036', '1831',\n",
       "       '11678', '2936', '2993', '7443', '6360', '1797', '1173', '4687',\n",
       "       '6723', '2009', '6097', '2653', '1639', '18481', '7978', '2387',\n",
       "       '5060'], dtype=object)"
      ]
     },
     "execution_count": 6,
     "metadata": {},
     "output_type": "execute_result"
    }
   ],
   "source": [
    "pd.unique(df['capital-gain'].values)"
   ]
  },
  {
   "cell_type": "code",
   "execution_count": 7,
   "metadata": {},
   "outputs": [],
   "source": [
    "# Ваш код здесь\n",
    "df['capital-gain'] = pd.to_numeric(df['capital-gain'],errors='coerce')"
   ]
  },
  {
   "cell_type": "code",
   "execution_count": 8,
   "metadata": {},
   "outputs": [
    {
     "name": "stdout",
     "output_type": "stream",
     "text": [
      "<class 'pandas.core.frame.DataFrame'>\n",
      "RangeIndex: 32561 entries, 0 to 32560\n",
      "Data columns (total 15 columns):\n",
      " #   Column          Non-Null Count  Dtype  \n",
      "---  ------          --------------  -----  \n",
      " 0   age             32561 non-null  int64  \n",
      " 1   workclass       32561 non-null  object \n",
      " 2   fnlwgt          32561 non-null  int64  \n",
      " 3   education       32561 non-null  object \n",
      " 4   education-num   32561 non-null  int64  \n",
      " 5   marital-status  32561 non-null  object \n",
      " 6   occupation      32561 non-null  object \n",
      " 7   relationship    32561 non-null  object \n",
      " 8   race            32561 non-null  object \n",
      " 9   sex             32561 non-null  object \n",
      " 10  capital-gain    32557 non-null  float64\n",
      " 11  capital-loss    32554 non-null  float64\n",
      " 12  hours-per-week  32561 non-null  int64  \n",
      " 13  native-country  32561 non-null  object \n",
      " 14  salary          32561 non-null  object \n",
      "dtypes: float64(2), int64(4), object(9)\n",
      "memory usage: 3.7+ MB\n"
     ]
    }
   ],
   "source": [
    "df.info()"
   ]
  },
  {
   "cell_type": "markdown",
   "metadata": {},
   "source": [
    "### Преобразование данных к нужному типу\n",
    "\n",
    "Необходимо сначала заменить все «Not Available» на not a number (np.nan), которые можно интерпретировать как числа, а затем конвертирует содержимое определённых колонок в тип float: "
   ]
  },
  {
   "cell_type": "code",
   "execution_count": 9,
   "metadata": {},
   "outputs": [
    {
     "name": "stdout",
     "output_type": "stream",
     "text": [
      "[39 50 38 53 28 37 49 52 31 42 30 23 32 40 34 25 43 54 35 59 56 19 20 45\n",
      " 22 48 21 24 57 44 41 29 18 47 46 36 79 27 67 33 76 17 55 61 70 64 71 68\n",
      " 66 51 58 26 60 90 75 65 77 62 63 80 72 74 69 73 81 78 88 82 83 84 85 86\n",
      " 87]\n",
      "['State-gov' 'Self-emp-not-inc' 'Private' 'Federal-gov' 'Local-gov' '?'\n",
      " 'Self-emp-inc' 'Without-pay' 'Never-worked']\n",
      "[ 77516  83311 215646 ...  34066  84661 257302]\n",
      "['Bachelors' 'HS-grad' '11th' 'Masters' '9th' 'Some-college' 'Assoc-acdm'\n",
      " 'Assoc-voc' '7th-8th' 'Doctorate' 'Prof-school' '5th-6th' '10th'\n",
      " '1st-4th' 'Preschool' '12th']\n",
      "[13  9  7 14  5 10 12 11  4 16 15  3  6  2  1  8]\n",
      "['Never-married' 'Married-civ-spouse' 'Divorced' 'Married-spouse-absent'\n",
      " 'Separated' 'Married-AF-spouse' 'Widowed']\n",
      "['Adm-clerical' 'Exec-managerial' 'Handlers-cleaners' 'Prof-specialty'\n",
      " 'Other-service' 'Sales' 'Craft-repair' 'Transport-moving'\n",
      " 'Farming-fishing' 'Machine-op-inspct' 'Tech-support' '?'\n",
      " 'Protective-serv' 'Armed-Forces' 'Priv-house-serv']\n",
      "['Not-in-family' 'Husband' 'Wife' 'Own-child' 'Unmarried' 'Other-relative']\n",
      "['White' 'Black' 'Asian-Pac-Islander' 'Amer-Indian-Eskimo' 'Other']\n",
      "['Male' 'Female']\n",
      "[ 2174.     0. 14084.    nan  5013.  2407. 14344. 15024.  7688. 34095.\n",
      "  4064.  4386.  7298.  1409.  3674.  1055.  5178.  3464.  2050.  2176.\n",
      "   594. 20051.  6849.  4101.  1111.  8614.  3411.  2597. 25236.  4650.\n",
      "  9386.  2463.  3103. 10605.  2964.  3325.  2580.  3471.  4865. 99999.\n",
      "  6514.  1471.  2329.  2105.  2885. 25124. 10520.  2202.  2961. 27828.\n",
      "  6767.  2228.  1506. 13550.  2635.  5556.  4787.  3781.  3137.  3818.\n",
      "  3942.   914.   401.  2829.  2977.  4934.  2062.  2354.  5455. 15020.\n",
      "  1424.  3273. 22040.  4416.  3908. 10566.   991.  4931.  1086.  7430.\n",
      "  6497.   114.  7896.  2346.  3418.  3432.  2907.  1151.  2414.  2290.\n",
      " 15831. 41310.  4508.  2538.  3456.  6418.  1848.  3887.  5721.  9562.\n",
      "  1455.  2036.  1831. 11678.  2936.  2993.  7443.  6360.  1797.  1173.\n",
      "  4687.  6723.  2009.  6097.  2653.  1639. 18481.  7978.  2387.  5060.]\n",
      "[   0.   nan 2042. 1408. 1902. 1573. 1887. 1719. 1762. 1564. 2179. 1816.\n",
      " 1980. 1977. 1876. 1340. 2206. 1741. 1485. 2339. 2415. 1380. 1721. 2051.\n",
      " 2377. 1669. 2352. 1672.  653. 2392. 1504. 2001. 1590. 1651. 1628. 1848.\n",
      " 1740. 2002. 1579. 2258. 1602.  419. 2547. 2174. 2205. 1726. 2444. 1138.\n",
      " 2238.  625.  213. 1539.  880. 1668. 1092. 1594. 3004. 2231. 1844.  810.\n",
      " 2824. 2559. 2057. 1974.  974. 2149. 1825. 1735. 1258. 2129. 2603. 2282.\n",
      "  323. 4356. 2246. 1617. 1648. 2489. 3770. 1755. 3683. 2267. 2080. 2457.\n",
      "  155. 3900. 2201. 1944. 2467. 2163. 2754. 2472. 1411.]\n",
      "[40 13 16 45 50 80 30 35 60 20 52 44 15 25 38 43 55 48 58 32 70  2 22 56\n",
      " 41 28 36 24 46 42 12 65  1 10 34 75 98 33 54  8  6 64 19 18 72  5  9 47\n",
      " 37 21 26 14  4 59  7 99 53 39 62 57 78 90 66 11 49 84  3 17 68 27 85 31\n",
      " 51 77 63 23 87 88 73 89 97 94 29 96 67 82 86 91 81 76 92 61 74 95]\n",
      "['United-States' 'Cuba' 'Jamaica' 'India' '?' 'Mexico' 'South'\n",
      " 'Puerto-Rico' 'Honduras' 'England' 'Canada' 'Germany' 'Iran'\n",
      " 'Philippines' 'Italy' 'Poland' 'Columbia' 'Cambodia' 'Thailand' 'Ecuador'\n",
      " 'Laos' 'Taiwan' 'Haiti' 'Portugal' 'Dominican-Republic' 'El-Salvador'\n",
      " 'France' 'Guatemala' 'China' 'Japan' 'Yugoslavia' 'Peru'\n",
      " 'Outlying-US(Guam-USVI-etc)' 'Scotland' 'Trinadad&Tobago' 'Greece'\n",
      " 'Nicaragua' 'Vietnam' 'Hong' 'Ireland' 'Hungary' 'Holand-Netherlands']\n",
      "['<=50K' '>50K']\n"
     ]
    }
   ],
   "source": [
    "# Посмотрим какие значения есть в колонках и соответствуют ли они признакам. В некоторых колонках встречается \"?\"\n",
    "for col in list(df.columns):\n",
    "    print(pd.unique(df[col].values))"
   ]
  },
  {
   "cell_type": "code",
   "execution_count": 11,
   "metadata": {},
   "outputs": [],
   "source": [
    "# Ваш код здесь\n",
    "df = df.replace({'?': np.nan})\n"
   ]
  },
  {
   "cell_type": "markdown",
   "metadata": {},
   "source": [
    "Выведем статистические данные:"
   ]
  },
  {
   "cell_type": "code",
   "execution_count": 12,
   "metadata": {
    "scrolled": true
   },
   "outputs": [
    {
     "data": {
      "text/html": [
       "<div>\n",
       "<style scoped>\n",
       "    .dataframe tbody tr th:only-of-type {\n",
       "        vertical-align: middle;\n",
       "    }\n",
       "\n",
       "    .dataframe tbody tr th {\n",
       "        vertical-align: top;\n",
       "    }\n",
       "\n",
       "    .dataframe thead th {\n",
       "        text-align: right;\n",
       "    }\n",
       "</style>\n",
       "<table border=\"1\" class=\"dataframe\">\n",
       "  <thead>\n",
       "    <tr style=\"text-align: right;\">\n",
       "      <th></th>\n",
       "      <th>age</th>\n",
       "      <th>fnlwgt</th>\n",
       "      <th>education-num</th>\n",
       "      <th>capital-gain</th>\n",
       "      <th>capital-loss</th>\n",
       "      <th>hours-per-week</th>\n",
       "    </tr>\n",
       "  </thead>\n",
       "  <tbody>\n",
       "    <tr>\n",
       "      <th>count</th>\n",
       "      <td>32561.0</td>\n",
       "      <td>3.3e+04</td>\n",
       "      <td>32561.0</td>\n",
       "      <td>32557.0</td>\n",
       "      <td>32554.0</td>\n",
       "      <td>32561.0</td>\n",
       "    </tr>\n",
       "    <tr>\n",
       "      <th>mean</th>\n",
       "      <td>38.6</td>\n",
       "      <td>1.9e+05</td>\n",
       "      <td>10.1</td>\n",
       "      <td>1077.6</td>\n",
       "      <td>87.3</td>\n",
       "      <td>40.4</td>\n",
       "    </tr>\n",
       "    <tr>\n",
       "      <th>std</th>\n",
       "      <td>13.6</td>\n",
       "      <td>1.1e+05</td>\n",
       "      <td>2.6</td>\n",
       "      <td>7385.7</td>\n",
       "      <td>403.0</td>\n",
       "      <td>12.3</td>\n",
       "    </tr>\n",
       "    <tr>\n",
       "      <th>min</th>\n",
       "      <td>17.0</td>\n",
       "      <td>1.2e+04</td>\n",
       "      <td>1.0</td>\n",
       "      <td>0.0</td>\n",
       "      <td>0.0</td>\n",
       "      <td>1.0</td>\n",
       "    </tr>\n",
       "    <tr>\n",
       "      <th>25%</th>\n",
       "      <td>28.0</td>\n",
       "      <td>1.2e+05</td>\n",
       "      <td>9.0</td>\n",
       "      <td>0.0</td>\n",
       "      <td>0.0</td>\n",
       "      <td>40.0</td>\n",
       "    </tr>\n",
       "    <tr>\n",
       "      <th>50%</th>\n",
       "      <td>37.0</td>\n",
       "      <td>1.8e+05</td>\n",
       "      <td>10.0</td>\n",
       "      <td>0.0</td>\n",
       "      <td>0.0</td>\n",
       "      <td>40.0</td>\n",
       "    </tr>\n",
       "    <tr>\n",
       "      <th>75%</th>\n",
       "      <td>48.0</td>\n",
       "      <td>2.4e+05</td>\n",
       "      <td>12.0</td>\n",
       "      <td>0.0</td>\n",
       "      <td>0.0</td>\n",
       "      <td>45.0</td>\n",
       "    </tr>\n",
       "    <tr>\n",
       "      <th>max</th>\n",
       "      <td>90.0</td>\n",
       "      <td>1.5e+06</td>\n",
       "      <td>16.0</td>\n",
       "      <td>99999.0</td>\n",
       "      <td>4356.0</td>\n",
       "      <td>99.0</td>\n",
       "    </tr>\n",
       "  </tbody>\n",
       "</table>\n",
       "</div>"
      ],
      "text/plain": [
       "           age   fnlwgt  education-num  capital-gain  capital-loss  \\\n",
       "count  32561.0  3.3e+04        32561.0       32557.0       32554.0   \n",
       "mean      38.6  1.9e+05           10.1        1077.6          87.3   \n",
       "std       13.6  1.1e+05            2.6        7385.7         403.0   \n",
       "min       17.0  1.2e+04            1.0           0.0           0.0   \n",
       "25%       28.0  1.2e+05            9.0           0.0           0.0   \n",
       "50%       37.0  1.8e+05           10.0           0.0           0.0   \n",
       "75%       48.0  2.4e+05           12.0           0.0           0.0   \n",
       "max       90.0  1.5e+06           16.0       99999.0        4356.0   \n",
       "\n",
       "       hours-per-week  \n",
       "count         32561.0  \n",
       "mean             40.4  \n",
       "std              12.3  \n",
       "min               1.0  \n",
       "25%              40.0  \n",
       "50%              40.0  \n",
       "75%              45.0  \n",
       "max              99.0  "
      ]
     },
     "execution_count": 12,
     "metadata": {},
     "output_type": "execute_result"
    }
   ],
   "source": [
    "# Ваш код здесь\n",
    "df.describe()"
   ]
  },
  {
   "cell_type": "markdown",
   "metadata": {},
   "source": [
    "Когда значения в соответствующих колонках у нас станут числами, можно начинать исследовать данные.\n",
    "\n",
    "### Отсутствующие и аномальные данные\n",
    "\n",
    "Наряду с некорректными типами данных одна из самых частых проблем — отсутствующие значения. Они могут отсутствовать по разным причинам, и перед анализом эти значения нужно либо заполнить, либо удалить. Сначала давайте выясним, сколько у нас не хватает значений в каждой колонке"
   ]
  },
  {
   "cell_type": "code",
   "execution_count": 13,
   "metadata": {},
   "outputs": [
    {
     "name": "stdout",
     "output_type": "stream",
     "text": [
      "Этот набор данных имеет 15 столбцов.\n",
      " Количество столбцов  с пропущенными значениями: 5\n"
     ]
    },
    {
     "data": {
      "text/html": [
       "<div>\n",
       "<style scoped>\n",
       "    .dataframe tbody tr th:only-of-type {\n",
       "        vertical-align: middle;\n",
       "    }\n",
       "\n",
       "    .dataframe tbody tr th {\n",
       "        vertical-align: top;\n",
       "    }\n",
       "\n",
       "    .dataframe thead th {\n",
       "        text-align: right;\n",
       "    }\n",
       "</style>\n",
       "<table border=\"1\" class=\"dataframe\">\n",
       "  <thead>\n",
       "    <tr style=\"text-align: right;\">\n",
       "      <th></th>\n",
       "      <th>Пропущенные значения</th>\n",
       "      <th>% от общего значения</th>\n",
       "    </tr>\n",
       "  </thead>\n",
       "  <tbody>\n",
       "    <tr>\n",
       "      <th>occupation</th>\n",
       "      <td>1843</td>\n",
       "      <td>5.7</td>\n",
       "    </tr>\n",
       "    <tr>\n",
       "      <th>workclass</th>\n",
       "      <td>1836</td>\n",
       "      <td>5.6</td>\n",
       "    </tr>\n",
       "    <tr>\n",
       "      <th>native-country</th>\n",
       "      <td>583</td>\n",
       "      <td>1.8</td>\n",
       "    </tr>\n",
       "    <tr>\n",
       "      <th>capital-loss</th>\n",
       "      <td>7</td>\n",
       "      <td>0.0</td>\n",
       "    </tr>\n",
       "    <tr>\n",
       "      <th>capital-gain</th>\n",
       "      <td>4</td>\n",
       "      <td>0.0</td>\n",
       "    </tr>\n",
       "  </tbody>\n",
       "</table>\n",
       "</div>"
      ],
      "text/plain": [
       "                Пропущенные значения  % от общего значения\n",
       "occupation                      1843                   5.7\n",
       "workclass                       1836                   5.6\n",
       "native-country                   583                   1.8\n",
       "capital-loss                       7                   0.0\n",
       "capital-gain                       4                   0.0"
      ]
     },
     "execution_count": 13,
     "metadata": {},
     "output_type": "execute_result"
    }
   ],
   "source": [
    "# Ваш код здесь\n",
    "# Функция для вычисления пропущенных значений по столбцу\n",
    "def missing_values_table(df):\n",
    "        # Всего пропущенных значений\n",
    "        mis_val = df.isnull().sum()\n",
    "        \n",
    "        # Процент пропущенных значений\n",
    "        mis_val_percent = 100 * df.isnull().sum() / len(df)\n",
    "        \n",
    "        # Составим таблицу с результатами\n",
    "        mis_val_table = pd.concat([mis_val, mis_val_percent], axis=1)\n",
    "        \n",
    "        # переименуем столбцы\n",
    "        mis_val_table_ren_columns = mis_val_table.rename(\n",
    "        columns = {0 : 'Пропущенные значения', 1 : '% от общего значения'})\n",
    "        \n",
    "        # Отсортиреум таблицу по проценту пропуска по убыванию\n",
    "        mis_val_table_ren_columns = mis_val_table_ren_columns[\n",
    "            mis_val_table_ren_columns.iloc[:,1] != 0].sort_values(\n",
    "        '% от общего значения', ascending=False).round(1)\n",
    "        \n",
    "        # Распечатаем некоторую сводную информацию\n",
    "        print (\"Этот набор данных имеет \" + str(df.shape[1]) + \" столбцов.\\n\"      \n",
    "            \" Количество столбцов  с пропущенными значениями: \" + str(mis_val_table_ren_columns.shape[0]))\n",
    "        \n",
    "        # Вернем dataframe с отсутствующей информацией\n",
    "        return mis_val_table_ren_columns\n",
    "missing_values_table(df)"
   ]
  },
  {
   "cell_type": "markdown",
   "metadata": {},
   "source": [
    "Убирать информацию всегда нужно с осторожностью, и если много значений в колонке отсутствует, то она, вероятно, не пойдёт на пользу нашей модели. Порог, после которого колонки лучше выкидывать, зависит от вашей задачи, а в нашем проекте мы будем удалять колонки, пустые более чем на половину."
   ]
  },
  {
   "cell_type": "code",
   "execution_count": 14,
   "metadata": {
    "scrolled": true
   },
   "outputs": [
    {
     "name": "stdout",
     "output_type": "stream",
     "text": [
      "Этот набор данных имеет 15 столбцов.\n",
      " Количество столбцов  с пропущенными значениями: 5\n",
      "Мы удалим 5 столбцов.\n"
     ]
    }
   ],
   "source": [
    "# Ваш код здесь\n",
    "# Получим стоблцы у которых 3 и более пропущенных значений\n",
    "missing_df = missing_values_table(df);\n",
    "missing_columns = list(missing_df[missing_df['Пропущенные значения'] >= 0.2].index)\n",
    "print('Мы удалим %d столбцов.' % len(missing_columns))"
   ]
  },
  {
   "cell_type": "markdown",
   "metadata": {},
   "source": [
    "Удалить признаки с пропущенными значениями"
   ]
  },
  {
   "cell_type": "code",
   "execution_count": 15,
   "metadata": {},
   "outputs": [
    {
     "data": {
      "text/html": [
       "<div>\n",
       "<style scoped>\n",
       "    .dataframe tbody tr th:only-of-type {\n",
       "        vertical-align: middle;\n",
       "    }\n",
       "\n",
       "    .dataframe tbody tr th {\n",
       "        vertical-align: top;\n",
       "    }\n",
       "\n",
       "    .dataframe thead th {\n",
       "        text-align: right;\n",
       "    }\n",
       "</style>\n",
       "<table border=\"1\" class=\"dataframe\">\n",
       "  <thead>\n",
       "    <tr style=\"text-align: right;\">\n",
       "      <th></th>\n",
       "      <th>age</th>\n",
       "      <th>fnlwgt</th>\n",
       "      <th>education</th>\n",
       "      <th>education-num</th>\n",
       "      <th>marital-status</th>\n",
       "      <th>relationship</th>\n",
       "      <th>race</th>\n",
       "      <th>sex</th>\n",
       "      <th>hours-per-week</th>\n",
       "      <th>salary</th>\n",
       "    </tr>\n",
       "  </thead>\n",
       "  <tbody>\n",
       "    <tr>\n",
       "      <th>0</th>\n",
       "      <td>39</td>\n",
       "      <td>77516</td>\n",
       "      <td>Bachelors</td>\n",
       "      <td>13</td>\n",
       "      <td>Never-married</td>\n",
       "      <td>Not-in-family</td>\n",
       "      <td>White</td>\n",
       "      <td>Male</td>\n",
       "      <td>40</td>\n",
       "      <td>&lt;=50K</td>\n",
       "    </tr>\n",
       "    <tr>\n",
       "      <th>1</th>\n",
       "      <td>50</td>\n",
       "      <td>83311</td>\n",
       "      <td>Bachelors</td>\n",
       "      <td>13</td>\n",
       "      <td>Married-civ-spouse</td>\n",
       "      <td>Husband</td>\n",
       "      <td>White</td>\n",
       "      <td>Male</td>\n",
       "      <td>13</td>\n",
       "      <td>&lt;=50K</td>\n",
       "    </tr>\n",
       "    <tr>\n",
       "      <th>2</th>\n",
       "      <td>38</td>\n",
       "      <td>215646</td>\n",
       "      <td>HS-grad</td>\n",
       "      <td>9</td>\n",
       "      <td>Divorced</td>\n",
       "      <td>Not-in-family</td>\n",
       "      <td>White</td>\n",
       "      <td>Male</td>\n",
       "      <td>40</td>\n",
       "      <td>&lt;=50K</td>\n",
       "    </tr>\n",
       "    <tr>\n",
       "      <th>3</th>\n",
       "      <td>53</td>\n",
       "      <td>234721</td>\n",
       "      <td>11th</td>\n",
       "      <td>7</td>\n",
       "      <td>Married-civ-spouse</td>\n",
       "      <td>Husband</td>\n",
       "      <td>Black</td>\n",
       "      <td>Male</td>\n",
       "      <td>40</td>\n",
       "      <td>&lt;=50K</td>\n",
       "    </tr>\n",
       "    <tr>\n",
       "      <th>4</th>\n",
       "      <td>28</td>\n",
       "      <td>338409</td>\n",
       "      <td>Bachelors</td>\n",
       "      <td>13</td>\n",
       "      <td>Married-civ-spouse</td>\n",
       "      <td>Wife</td>\n",
       "      <td>Black</td>\n",
       "      <td>Female</td>\n",
       "      <td>40</td>\n",
       "      <td>&lt;=50K</td>\n",
       "    </tr>\n",
       "    <tr>\n",
       "      <th>...</th>\n",
       "      <td>...</td>\n",
       "      <td>...</td>\n",
       "      <td>...</td>\n",
       "      <td>...</td>\n",
       "      <td>...</td>\n",
       "      <td>...</td>\n",
       "      <td>...</td>\n",
       "      <td>...</td>\n",
       "      <td>...</td>\n",
       "      <td>...</td>\n",
       "    </tr>\n",
       "    <tr>\n",
       "      <th>32556</th>\n",
       "      <td>27</td>\n",
       "      <td>257302</td>\n",
       "      <td>Assoc-acdm</td>\n",
       "      <td>12</td>\n",
       "      <td>Married-civ-spouse</td>\n",
       "      <td>Wife</td>\n",
       "      <td>White</td>\n",
       "      <td>Female</td>\n",
       "      <td>38</td>\n",
       "      <td>&lt;=50K</td>\n",
       "    </tr>\n",
       "    <tr>\n",
       "      <th>32557</th>\n",
       "      <td>40</td>\n",
       "      <td>154374</td>\n",
       "      <td>HS-grad</td>\n",
       "      <td>9</td>\n",
       "      <td>Married-civ-spouse</td>\n",
       "      <td>Husband</td>\n",
       "      <td>White</td>\n",
       "      <td>Male</td>\n",
       "      <td>40</td>\n",
       "      <td>&gt;50K</td>\n",
       "    </tr>\n",
       "    <tr>\n",
       "      <th>32558</th>\n",
       "      <td>58</td>\n",
       "      <td>151910</td>\n",
       "      <td>HS-grad</td>\n",
       "      <td>9</td>\n",
       "      <td>Widowed</td>\n",
       "      <td>Unmarried</td>\n",
       "      <td>White</td>\n",
       "      <td>Female</td>\n",
       "      <td>40</td>\n",
       "      <td>&lt;=50K</td>\n",
       "    </tr>\n",
       "    <tr>\n",
       "      <th>32559</th>\n",
       "      <td>22</td>\n",
       "      <td>201490</td>\n",
       "      <td>HS-grad</td>\n",
       "      <td>9</td>\n",
       "      <td>Never-married</td>\n",
       "      <td>Own-child</td>\n",
       "      <td>White</td>\n",
       "      <td>Male</td>\n",
       "      <td>20</td>\n",
       "      <td>&lt;=50K</td>\n",
       "    </tr>\n",
       "    <tr>\n",
       "      <th>32560</th>\n",
       "      <td>52</td>\n",
       "      <td>287927</td>\n",
       "      <td>HS-grad</td>\n",
       "      <td>9</td>\n",
       "      <td>Married-civ-spouse</td>\n",
       "      <td>Wife</td>\n",
       "      <td>White</td>\n",
       "      <td>Female</td>\n",
       "      <td>40</td>\n",
       "      <td>&gt;50K</td>\n",
       "    </tr>\n",
       "  </tbody>\n",
       "</table>\n",
       "<p>32561 rows × 10 columns</p>\n",
       "</div>"
      ],
      "text/plain": [
       "       age  fnlwgt   education  education-num      marital-status  \\\n",
       "0       39   77516   Bachelors             13       Never-married   \n",
       "1       50   83311   Bachelors             13  Married-civ-spouse   \n",
       "2       38  215646     HS-grad              9            Divorced   \n",
       "3       53  234721        11th              7  Married-civ-spouse   \n",
       "4       28  338409   Bachelors             13  Married-civ-spouse   \n",
       "...    ...     ...         ...            ...                 ...   \n",
       "32556   27  257302  Assoc-acdm             12  Married-civ-spouse   \n",
       "32557   40  154374     HS-grad              9  Married-civ-spouse   \n",
       "32558   58  151910     HS-grad              9             Widowed   \n",
       "32559   22  201490     HS-grad              9       Never-married   \n",
       "32560   52  287927     HS-grad              9  Married-civ-spouse   \n",
       "\n",
       "        relationship   race     sex  hours-per-week salary  \n",
       "0      Not-in-family  White    Male              40  <=50K  \n",
       "1            Husband  White    Male              13  <=50K  \n",
       "2      Not-in-family  White    Male              40  <=50K  \n",
       "3            Husband  Black    Male              40  <=50K  \n",
       "4               Wife  Black  Female              40  <=50K  \n",
       "...              ...    ...     ...             ...    ...  \n",
       "32556           Wife  White  Female              38  <=50K  \n",
       "32557        Husband  White    Male              40   >50K  \n",
       "32558      Unmarried  White  Female              40  <=50K  \n",
       "32559      Own-child  White    Male              20  <=50K  \n",
       "32560           Wife  White  Female              40   >50K  \n",
       "\n",
       "[32561 rows x 10 columns]"
      ]
     },
     "execution_count": 15,
     "metadata": {},
     "output_type": "execute_result"
    }
   ],
   "source": [
    "# Ваш код здесь\n",
    "df = df.drop(columns = list(missing_columns))\n",
    "df"
   ]
  },
  {
   "cell_type": "markdown",
   "metadata": {},
   "source": [
    "По завершении процесса очистки данных и удаления аномалий у нас осталось **10** признаков. "
   ]
  },
  {
   "cell_type": "markdown",
   "metadata": {},
   "source": [
    "## 3. Описательный анализ данных"
   ]
  },
  {
   "cell_type": "markdown",
   "metadata": {},
   "source": [
    "**1. Сколько неженатых граждан** (признак *relationship* = Unmarried) **представлено в этом наборе данных?**"
   ]
  },
  {
   "cell_type": "code",
   "execution_count": 16,
   "metadata": {},
   "outputs": [
    {
     "name": "stdout",
     "output_type": "stream",
     "text": [
      "Всего людей: 32561\n",
      "Из них неженатых: 3446\n"
     ]
    }
   ],
   "source": [
    "# Ваш код здесь\n",
    "print('Всего людей:', len(df))\n",
    "print('Из них неженатых:', df['relationship'].value_counts()['Unmarried'])"
   ]
  },
  {
   "cell_type": "markdown",
   "metadata": {},
   "source": [
    "**2. Каков средний возраст** (признак *age* ) **женщин** (признак *sex* = Female)), **которые зарабатывают много?** ( признак *salary* = >50K)"
   ]
  },
  {
   "cell_type": "code",
   "execution_count": 17,
   "metadata": {},
   "outputs": [
    {
     "name": "stdout",
     "output_type": "stream",
     "text": [
      "Средний возраст женщин, который зарабатывают много: 42.13\n"
     ]
    }
   ],
   "source": [
    "# Ваш код здесь\n",
    "x = df[(df['sex'] == 'Female') & (df['salary'] == '>50K')]['age'].mean()\n",
    "\n",
    "print('Средний возраст женщин, который зарабатывают много:', float('{:.2f}'.format(x)))\n"
   ]
  },
  {
   "cell_type": "markdown",
   "metadata": {},
   "source": [
    "**3. Какое наибольшее количество часов человек работает в неделю?** (признак *hours-per-week*)"
   ]
  },
  {
   "cell_type": "code",
   "execution_count": 18,
   "metadata": {},
   "outputs": [
    {
     "name": "stdout",
     "output_type": "stream",
     "text": [
      "Наибольшее число рабочих часов в неделю: 99 \n",
      "Это в среднем 14 часов, 7 дней в неделю\n"
     ]
    }
   ],
   "source": [
    "# Ваш код здесь\n",
    "hrs = df['hours-per-week'].max()\n",
    "print(f'Наибольшее число рабочих часов в неделю: {hrs} \\nЭто в среднем {round(hrs/7)} часов, 7 дней в неделю')\n",
    "\n"
   ]
  },
  {
   "cell_type": "markdown",
   "metadata": {},
   "source": [
    "**4. Сколько граждан  много зарабатывают** (признак *salary* = >50K), **которые закончили 9 классов**?  (признак *education* = 9th)"
   ]
  },
  {
   "cell_type": "code",
   "execution_count": 19,
   "metadata": {},
   "outputs": [
    {
     "name": "stdout",
     "output_type": "stream",
     "text": [
      "27 человек, закончивших 9 классов, зарабатываю больше 50К\n"
     ]
    }
   ],
   "source": [
    "# Ваш код здесь\n",
    "a = df[df['salary'] == '>50K']['education'].value_counts()['9th']\n",
    "print(f'{a} человек, закончивших 9 классов, зарабатываю больше 50К')"
   ]
  },
  {
   "cell_type": "markdown",
   "metadata": {},
   "source": [
    "**5. Посчитайте среднее время работы** (признак *hours-per-week*) **зарабатывающих мало и много** (признак *salary*).\n",
    "\n",
    "Используйте метод pivot_table"
   ]
  },
  {
   "cell_type": "code",
   "execution_count": 20,
   "metadata": {
    "scrolled": true
   },
   "outputs": [
    {
     "data": {
      "text/html": [
       "<div>\n",
       "<style scoped>\n",
       "    .dataframe tbody tr th:only-of-type {\n",
       "        vertical-align: middle;\n",
       "    }\n",
       "\n",
       "    .dataframe tbody tr th {\n",
       "        vertical-align: top;\n",
       "    }\n",
       "\n",
       "    .dataframe thead th {\n",
       "        text-align: right;\n",
       "    }\n",
       "</style>\n",
       "<table border=\"1\" class=\"dataframe\">\n",
       "  <thead>\n",
       "    <tr style=\"text-align: right;\">\n",
       "      <th></th>\n",
       "      <th>hours-per-week</th>\n",
       "    </tr>\n",
       "    <tr>\n",
       "      <th>salary</th>\n",
       "      <th></th>\n",
       "    </tr>\n",
       "  </thead>\n",
       "  <tbody>\n",
       "    <tr>\n",
       "      <th>&lt;=50K</th>\n",
       "      <td>38.8</td>\n",
       "    </tr>\n",
       "    <tr>\n",
       "      <th>&gt;50K</th>\n",
       "      <td>45.5</td>\n",
       "    </tr>\n",
       "  </tbody>\n",
       "</table>\n",
       "</div>"
      ],
      "text/plain": [
       "        hours-per-week\n",
       "salary                \n",
       "<=50K             38.8\n",
       ">50K              45.5"
      ]
     },
     "execution_count": 20,
     "metadata": {},
     "output_type": "execute_result"
    }
   ],
   "source": [
    "# Ваш код здесь\n",
    "pivtab = df.pivot_table(\n",
    "    [\"hours-per-week\"], # по чему считаем, к чему применяем функцию aggfunc\n",
    "    [\"salary\"], # строковый вывод - какие строки\n",
    "    aggfunc = 'mean',\n",
    ").head(10)\n",
    "pivtab"
   ]
  },
  {
   "cell_type": "markdown",
   "metadata": {},
   "source": [
    "## 4. Запись данных  в файл"
   ]
  },
  {
   "cell_type": "code",
   "execution_count": 21,
   "metadata": {},
   "outputs": [],
   "source": [
    "# Ваш код здесь\n",
    "df.to_excel('adult.xlsx')"
   ]
  },
  {
   "cell_type": "code",
   "execution_count": 22,
   "metadata": {},
   "outputs": [],
   "source": [
    "df.to_csv('newadult.csv')"
   ]
  }
 ],
 "metadata": {
  "anaconda-cloud": {},
  "kernelspec": {
   "display_name": "Python 3 (ipykernel)",
   "language": "python",
   "name": "python3"
  },
  "language_info": {
   "codemirror_mode": {
    "name": "ipython",
    "version": 3
   },
   "file_extension": ".py",
   "mimetype": "text/x-python",
   "name": "python",
   "nbconvert_exporter": "python",
   "pygments_lexer": "ipython3",
   "version": "3.9.7"
  }
 },
 "nbformat": 4,
 "nbformat_minor": 1
}
