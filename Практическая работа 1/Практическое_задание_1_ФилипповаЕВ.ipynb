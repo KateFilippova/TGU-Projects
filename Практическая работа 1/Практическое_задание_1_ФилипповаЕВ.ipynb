{
 "cells": [
  {
   "cell_type": "markdown",
   "id": "0b9bdfcb",
   "metadata": {},
   "source": [
    "# Практическое задание № 1\n",
 ]
  },
  {
   "cell_type": "markdown",
   "id": "45aa810a",
   "metadata": {},
   "source": [
    "Первая программа на языке программирования Python\n",
    "1. Создайте структуру данных, описывающую закрытую социальную сеть (не менее 10 пользователей). \n",
    "Используйте списки и словари для установления взаимосвязей пользователей. \n",
    "2. Создайте функцию, определяющую количество друзей у выбранного пользователя.\n",
    "3. Создайте функцию, выводящую на экран пользователей, отсортированных по количеству друзей."
   ]
  },
  {
   "cell_type": "markdown",
   "id": "299d0556",
   "metadata": {},
   "source": [
    "### Частная социальная сеть"
   ]
  },
  {
   "cell_type": "markdown",
   "id": "e9c87951",
   "metadata": {},
   "source": [
    "<img src=\"MindMap1.jpg\">"
   ]
  },
  {
   "cell_type": "markdown",
   "id": "1aaaece7",
   "metadata": {},
   "source": [
    "Создаем список пользователей из словарей. Каждый словарь содержит id и имя пользователя"
   ]
  },
  {
   "cell_type": "code",
   "execution_count": 1,
   "id": "b7a17e71",
   "metadata": {},
   "outputs": [
    {
     "name": "stdout",
     "output_type": "stream",
     "text": [
      "[{'id': 0, 'name': 'Борис'}, {'id': 1, 'name': 'Алла'}, {'id': 2, 'name': 'Ирина'}, {'id': 3, 'name': 'Егор'}, {'id': 4, 'name': 'Глеб'}, {'id': 5, 'name': 'Зина'}, {'id': 6, 'name': 'Коля'}, {'id': 7, 'name': 'Жанна'}, {'id': 8, 'name': 'Влада'}, {'id': 9, 'name': 'Марина'}, {'id': 10, 'name': 'Лев'}]\n"
     ]
    }
   ],
   "source": [
    "# создаем список пользователей из словарей. Каждый словарь содержит id и имя пользователя\n",
    "users = [\n",
    "{\"id\": 0, \"name\": \"Борис\"},\n",
    "{\"id\": 1, \"name\" : \"Алла\"},\n",
    "{\"id\": 2, \"name\": \"Ирина\"},\n",
    "{\"id\": 3, \"name\": \"Егор\"},\n",
    "{\"id\": 4, \"name\": \"Глеб\"},\n",
    "{\"id\": 5, \"name\": \"Зина\"},\n",
    "{\"id\": 6, \"name\": \"Коля\"},\n",
    "{\"id\": 7, \"name\": \"Жанна\"},\n",
    "{\"id\": 8, \"name\": \"Влада\"},\n",
    "{\"id\": 9, \"name\": \"Марина\"},\n",
    "{\"id\": 10, \"name\": \"Лев\"}\n",
    "]\n",
    "print(users)"
   ]
  },
  {
   "cell_type": "markdown",
   "id": "2643ff34",
   "metadata": {},
   "source": [
    "Создаем список, содержащий кортежи пар пользователь, между которыми есть связь"
   ]
  },
  {
   "cell_type": "code",
   "execution_count": 2,
   "id": "514ecded",
   "metadata": {},
   "outputs": [
    {
     "data": {
      "text/plain": [
       "18"
      ]
     },
     "execution_count": 2,
     "metadata": {},
     "output_type": "execute_result"
    }
   ],
   "source": [
    "fp = [ (1, 2), (1, 3), (3, 2), (2, 5), (2, 4),\n",
    "(2, 6), (4, 6), (5, 4), (4, 7), (5, 9), (5, 8), (7, 5), (7, 9), (10, 9), (10, 7), (0, 10), (7, 8), (0, 8)]\n",
    "len(fp)"
   ]
  },
  {
   "cell_type": "code",
   "execution_count": 3,
   "id": "45310826",
   "metadata": {
    "scrolled": true
   },
   "outputs": [
    {
     "data": {
      "text/plain": [
       "(dict,\n",
       " {0: [],\n",
       "  1: [],\n",
       "  2: [],\n",
       "  3: [],\n",
       "  4: [],\n",
       "  5: [],\n",
       "  6: [],\n",
       "  7: [],\n",
       "  8: [],\n",
       "  9: [],\n",
       "  10: []})"
      ]
     },
     "execution_count": 3,
     "metadata": {},
     "output_type": "execute_result"
    }
   ],
   "source": [
    "# Инициализировать словарь пустым списком для идентификатора\n",
    "# каждого пользователя\n",
    "friendships = {user[\"id\"]: [] for user in users}\n",
    "type(friendships), friendships"
   ]
  },
  {
   "cell_type": "code",
   "execution_count": 4,
   "id": "aa8f24a9",
   "metadata": {},
   "outputs": [],
   "source": [
    "for i, j in fp:\n",
    "    friendships[i].append(j) # Добавить j как друга для i\n",
    "    friendships[j].append(i) # Добавить i как друга ДЛЯ j"
   ]
  },
  {
   "cell_type": "code",
   "execution_count": 5,
   "id": "ad1fa103",
   "metadata": {
    "scrolled": true
   },
   "outputs": [
    {
     "data": {
      "text/plain": [
       "{0: [10, 8],\n",
       " 1: [2, 3],\n",
       " 2: [1, 3, 5, 4, 6],\n",
       " 3: [1, 2],\n",
       " 4: [2, 6, 5, 7],\n",
       " 5: [2, 4, 9, 8, 7],\n",
       " 6: [2, 4],\n",
       " 7: [4, 5, 9, 10, 8],\n",
       " 8: [5, 7, 0],\n",
       " 9: [5, 7, 10],\n",
       " 10: [9, 7, 0]}"
      ]
     },
     "execution_count": 5,
     "metadata": {},
     "output_type": "execute_result"
    }
   ],
   "source": [
    "friendships"
   ]
  },
  {
   "cell_type": "markdown",
   "id": "0d7ff473",
   "metadata": {},
   "source": [
    "2. Функция, определяющяя количество друзей у выбранного пользователя\n",
    "   "
   ]
  },
  {
   "cell_type": "markdown",
   "id": "46050f94",
   "metadata": {},
   "source": [
    "Написать функцию, которая определяет сколько друзей есть у пользователя user<br>\n",
    "def number_of_friends(u):<br>\n",
    " * в локальную переменную user_id присвоить значение по ключу id из словаря u - {'id': 0, 'name': 'Алексей'}<br>\n",
    " * в локальную переменную friend_ids присвоить значение по ключу из словаря friendships - 3: [1, 4] \n",
    " * у функции возвращаем количество элементов списка friend_ids"
   ]
  },
  {
   "cell_type": "code",
   "execution_count": 9,
   "id": "c3c9caaa",
   "metadata": {},
   "outputs": [],
   "source": [
    "def number_of_friends(u):\n",
    "    user_id = u['id']     # локальной переменной присваиваем значение id из словаря\n",
    "    friend_ids = friendships[user_id]    # ищем в словаре friendships по ключу user_id количество друзей\n",
    "    return len(friend_ids)\n",
    "   ### написать код "
   ]
  },
  {
   "cell_type": "code",
   "execution_count": 15,
   "id": "7fe49e2b",
   "metadata": {},
   "outputs": [
    {
     "data": {
      "text/plain": [
       "{'id': 0, 'name': 'Борис'}"
      ]
     },
     "execution_count": 15,
     "metadata": {},
     "output_type": "execute_result"
    }
   ],
   "source": [
    "users[0]"
   ]
  },
  {
   "cell_type": "code",
   "execution_count": 16,
   "id": "3443e71f",
   "metadata": {},
   "outputs": [
    {
     "data": {
      "text/plain": [
       "5"
      ]
     },
     "execution_count": 16,
     "metadata": {},
     "output_type": "execute_result"
    }
   ],
   "source": [
    "number_of_friends(users[7]) #выводит количество друзей"
   ]
  },
  {
   "cell_type": "markdown",
   "id": "e353dca6",
   "metadata": {},
   "source": [
    "3. Функция, выводящая на экран пользователей, отсортированных по количеству друзей"
   ]
  },
  {
   "cell_type": "markdown",
   "id": "5e2a76ac",
   "metadata": {},
   "source": [
    "создать список num_friends_by_name, который содержит имя пользователя user[\"name\"] и число его друзей number_of_friends(user)"
   ]
  },
  {
   "cell_type": "code",
   "execution_count": 29,
   "id": "6a5bdc7a",
   "metadata": {},
   "outputs": [
    {
     "data": {
      "text/plain": [
       "[('Борис', 2),\n",
       " ('Алла', 2),\n",
       " ('Ирина', 5),\n",
       " ('Егор', 2),\n",
       " ('Глеб', 4),\n",
       " ('Зина', 5),\n",
       " ('Коля', 2),\n",
       " ('Жанна', 5),\n",
       " ('Влада', 3),\n",
       " ('Марина', 3),\n",
       " ('Лев', 3)]"
      ]
     },
     "execution_count": 29,
     "metadata": {},
     "output_type": "execute_result"
    }
   ],
   "source": [
    "num_friends_by_name = [(users[i]['name'], number_of_friends(users[i])) for i in range(len(users))]\n",
    "num_friends_by_name"
   ]
  },
  {
   "cell_type": "code",
   "execution_count": 30,
   "id": "eb5bf6f6",
   "metadata": {},
   "outputs": [
    {
     "data": {
      "text/plain": [
       "(list,\n",
       " [('Борис', 2),\n",
       "  ('Алла', 2),\n",
       "  ('Ирина', 5),\n",
       "  ('Егор', 2),\n",
       "  ('Глеб', 4),\n",
       "  ('Зина', 5),\n",
       "  ('Коля', 2),\n",
       "  ('Жанна', 5),\n",
       "  ('Влада', 3),\n",
       "  ('Марина', 3),\n",
       "  ('Лев', 3)])"
      ]
     },
     "execution_count": 30,
     "metadata": {},
     "output_type": "execute_result"
    }
   ],
   "source": [
    "type(num_friends_by_name), num_friends_by_name"
   ]
  },
  {
   "cell_type": "markdown",
   "id": "50b086bb",
   "metadata": {},
   "source": [
    "Отсортировать список по числу друзей "
   ]
  },
  {
   "cell_type": "code",
   "execution_count": 33,
   "id": "27f59286",
   "metadata": {},
   "outputs": [],
   "source": [
    "# для сортировки в каждой паре берем значение с индексом 1, в возрастающем порядке\n",
    "num_friends_by_name.sort(key = lambda x : x[1], reverse=True) \n",
    "\n",
    "\n",
    "# Каждая пара представлена кортежем (name, num_friends),\n",
    "# т. е. именем пользователя и числом друзей"
   ]
  },
  {
   "cell_type": "code",
   "execution_count": 34,
   "id": "bb4da4b4",
   "metadata": {},
   "outputs": [
    {
     "name": "stdout",
     "output_type": "stream",
     "text": [
      "[('Ирина', 5), ('Зина', 5), ('Жанна', 5), ('Глеб', 4), ('Влада', 3), ('Марина', 3), ('Лев', 3), ('Борис', 2), ('Алла', 2), ('Егор', 2), ('Коля', 2)]\n"
     ]
    }
   ],
   "source": [
    "print(num_friends_by_name)"
   ]
  },
  {
   "cell_type": "markdown",
   "id": "05fb575d",
   "metadata": {},
   "source": [
    "4. Порекомендуем пользователю список возможных друзей из числа \"друзья друзей\""
   ]
  },
  {
   "cell_type": "code",
   "execution_count": 43,
   "id": "fa2b3102",
   "metadata": {},
   "outputs": [
    {
     "data": {
      "text/plain": [
       "['Жанна', 'Марина', 'Зина']"
      ]
     },
     "execution_count": 43,
     "metadata": {},
     "output_type": "execute_result"
    }
   ],
   "source": [
    "### Изменить данную функцию, чтобы она выводила Имена пользователей из списка друзья друзей\n",
    "def friends_of_friends(user):\n",
    "    user_id = user[\"id\"]\n",
    "    return list(set([users[ff_id]['name']    # set - удаляем повторяющиеся значения\n",
    "            for friend_id in friendships[user_id]\n",
    "            for ff_id in friendships[friend_id]\n",
    "            if ff_id != user_id and ff_id not in friendships[user_id]]))\n",
    "     \n",
    "friends_of_friends(users[0])"
   ]
  },
  {
   "cell_type": "code",
   "execution_count": 44,
   "id": "b50353ec",
   "metadata": {},
   "outputs": [
    {
     "data": {
      "text/plain": [
       "['Коля', 'Глеб', 'Зина']"
      ]
     },
     "execution_count": 44,
     "metadata": {},
     "output_type": "execute_result"
    }
   ],
   "source": [
    "friends_of_friends(users[1])"
   ]
  },
  {
   "cell_type": "markdown",
   "id": "b2f6d774",
   "metadata": {},
   "source": [
    "создать список с кортежами Имя пользователя , Список имен рекомендованных друзей"
   ]
  },
  {
   "cell_type": "code",
   "execution_count": 45,
   "id": "5b2c659f",
   "metadata": {},
   "outputs": [],
   "source": [
    "num_friends_by_friend = [(users[i]['name'], friends_of_friends(users[i])) for i in range(len(users))]"
   ]
  },
  {
   "cell_type": "code",
   "execution_count": 46,
   "id": "bf0e20a9",
   "metadata": {},
   "outputs": [
    {
     "data": {
      "text/plain": [
       "[('Борис', ['Жанна', 'Марина', 'Зина']),\n",
       " ('Алла', ['Коля', 'Глеб', 'Зина']),\n",
       " ('Ирина', ['Жанна', 'Марина', 'Влада']),\n",
       " ('Егор', ['Коля', 'Глеб', 'Зина']),\n",
       " ('Глеб', ['Лев', 'Егор', 'Алла', 'Марина', 'Влада']),\n",
       " ('Зина', ['Лев', 'Егор', 'Алла', 'Борис', 'Коля']),\n",
       " ('Коля', ['Жанна', 'Зина', 'Егор', 'Алла']),\n",
       " ('Жанна', ['Ирина', 'Коля', 'Борис']),\n",
       " ('Влада', ['Ирина', 'Марина', 'Глеб', 'Лев']),\n",
       " ('Марина', ['Ирина', 'Глеб', 'Влада', 'Борис']),\n",
       " ('Лев', ['Глеб', 'Влада', 'Зина'])]"
      ]
     },
     "execution_count": 46,
     "metadata": {},
     "output_type": "execute_result"
    }
   ],
   "source": [
    "num_friends_by_friend"
   ]
  },
  {
   "cell_type": "code",
   "execution_count": 58,
   "id": "b96dcecd",
   "metadata": {},
   "outputs": [
    {
     "name": "stdout",
     "output_type": "stream",
     "text": [
      "Dear Борис! do you know ['Жанна', 'Марина', 'Зина']?\n",
      "Dear Алла! do you know ['Коля', 'Глеб', 'Зина']?\n",
      "Dear Ирина! do you know ['Жанна', 'Марина', 'Влада']?\n",
      "Dear Егор! do you know ['Коля', 'Глеб', 'Зина']?\n",
      "Dear Глеб! do you know ['Лев', 'Егор', 'Алла', 'Марина', 'Влада']?\n",
      "Dear Зина! do you know ['Лев', 'Егор', 'Алла', 'Борис', 'Коля']?\n",
      "Dear Коля! do you know ['Жанна', 'Зина', 'Егор', 'Алла']?\n",
      "Dear Жанна! do you know ['Ирина', 'Коля', 'Борис']?\n",
      "Dear Влада! do you know ['Ирина', 'Марина', 'Глеб', 'Лев']?\n",
      "Dear Марина! do you know ['Ирина', 'Глеб', 'Влада', 'Борис']?\n",
      "Dear Лев! do you know ['Глеб', 'Влада', 'Зина']?\n"
     ]
    }
   ],
   "source": [
    "for i in range(len(users)):\n",
    "    a = users[i]['name']\n",
    "    b = friends_of_friends(users[i])\n",
    "    print(f'Dear {a}! do you know {b}?')"
   ]
  },
  {
   "cell_type": "code",
   "execution_count": null,
   "id": "9ffea69e",
   "metadata": {},
   "outputs": [],
   "source": []
  }
 ],
 "metadata": {
  "kernelspec": {
   "display_name": "Python 3 (ipykernel)",
   "language": "python",
   "name": "python3"
  },
  "language_info": {
   "codemirror_mode": {
    "name": "ipython",
    "version": 3
   },
   "file_extension": ".py",
   "mimetype": "text/x-python",
   "name": "python",
   "nbconvert_exporter": "python",
   "pygments_lexer": "ipython3",
   "version": "3.9.7"
  }
 },
 "nbformat": 4,
 "nbformat_minor": 5
}
