{
 "cells": [
  {
   "cell_type": "markdown",
   "id": "2b1e7fee",
   "metadata": {},
   "source": [
    "# Практическое задание № 3"
   ]
  },
  {
   "cell_type": "markdown",
   "id": "d3075618",
   "metadata": {},
   "source": [
    "### Выполнил: Филиппова Екатерина Викторовна"
   ]
  },
  {
   "cell_type": "markdown",
   "id": "443feab0",
   "metadata": {},
   "source": [
    "**Задание:**\n",
    "\n",
    "<font color=\"red\">Уважаемые слушатели, перед началом выполнения данной практический работы, пожалуйста, ознакомтесь со всеми материалами на платформе Odin по темам 5.1-5.3!</font>\n",
    "\n",
    "1. Создайте программу web-scraping с использованием библиотеки BeautifulSoup.\n",
    "\n",
    "Источник https://quotes.toscrape.com/\n",
    "\n",
    "2. Реализуйте HTML разбор текста.\n",
    "\n",
    "Выведите результат в DataFarme: Цитата | Автор |  Список тегов\n",
    "\n",
    "Опубликуйте файл расширения ipynb, прикрепив его в этом задании."
   ]
  },
  {
   "cell_type": "code",
   "execution_count": 1,
   "id": "3a84283d",
   "metadata": {},
   "outputs": [],
   "source": [
    "# Загружаем необходимые библиотеки\n",
    "import numpy as np\n",
    "import pandas as pd\n",
    "import requests\n",
    "from bs4 import BeautifulSoup\n",
    "import re"
   ]
  },
  {
   "cell_type": "code",
   "execution_count": 2,
   "id": "05773d97",
   "metadata": {},
   "outputs": [
    {
     "data": {
      "text/plain": [
       "{'text': ['“The world as we have created it is a process of our thinking. It cannot be changed without changing our thinking.”',\n",
       "  '“It is our choices, Harry, that show what we truly are, far more than our abilities.”',\n",
       "  '“There are only two ways to live your life. One is as though nothing is a miracle. The other is as though everything is a miracle.”',\n",
       "  '“The person, be it gentleman or lady, who has not pleasure in a good novel, must be intolerably stupid.”',\n",
       "  \"“Imperfection is beauty, madness is genius and it's better to be absolutely ridiculous than absolutely boring.”\",\n",
       "  '“Try not to become a man of success. Rather become a man of value.”',\n",
       "  '“It is better to be hated for what you are than to be loved for what you are not.”',\n",
       "  \"“I have not failed. I've just found 10,000 ways that won't work.”\",\n",
       "  \"“A woman is like a tea bag; you never know how strong it is until it's in hot water.”\",\n",
       "  '“A day without sunshine is like, you know, night.”'],\n",
       " 'authors': ['Albert Einstein',\n",
       "  'J.K. Rowling',\n",
       "  'Albert Einstein',\n",
       "  'Jane Austen',\n",
       "  'Marilyn Monroe',\n",
       "  'Albert Einstein',\n",
       "  'André Gide',\n",
       "  'Thomas A. Edison',\n",
       "  'Eleanor Roosevelt',\n",
       "  'Steve Martin'],\n",
       " 'tags': [['change', 'deep-thoughts', 'thinking', 'world'],\n",
       "  ['abilities', 'choices'],\n",
       "  ['inspirational', 'life', 'live', 'miracle', 'miracles'],\n",
       "  ['aliteracy', 'books', 'classic', 'humor'],\n",
       "  ['be-yourself', 'inspirational'],\n",
       "  ['adulthood', 'success', 'value'],\n",
       "  ['life', 'love'],\n",
       "  ['edison', 'failure', 'inspirational', 'paraphrased'],\n",
       "  ['misattributed-eleanor-roosevelt'],\n",
       "  ['humor', 'obvious', 'simile']]}"
      ]
     },
     "execution_count": 2,
     "metadata": {},
     "output_type": "execute_result"
    }
   ],
   "source": [
    "# создаем подключение и объект BeautifulSoup\n",
    "url = 'https://quotes.toscrape.com/'\n",
    "response = requests.get(url)\n",
    "soup = BeautifulSoup(response.text, 'lxml')\n",
    "\n",
    "# достаем текст из нужных тэгов и добавляем в словарь текст, автора и соответствующие тэги\n",
    "quotes = soup.find_all('div', {'class': 'quote'})\n",
    "result = {'text': [], 'authors': [], 'tags': []}\n",
    "\n",
    "for i in range(0, len(quotes)):\n",
    "    tags = []    \n",
    "    result['text'].append(quotes[i].find('span', {'class': 'text'}).text.strip())    \n",
    "    result['authors'].append(quotes[i].find('small', {'class': 'author'}).text.strip())\n",
    "    \n",
    "    tags_list = quotes[i].find_all('a', {'class': 'tag'})    \n",
    "    for j in tags_list:\n",
    "        tags.append(j.text.strip())\n",
    "    \n",
    "    result['tags'].append(tags)\n",
    "    \n",
    "    \n",
    "result"
   ]
  },
  {
   "cell_type": "code",
   "execution_count": 3,
   "id": "9477f7b6",
   "metadata": {},
   "outputs": [
    {
     "data": {
      "text/html": [
       "<div>\n",
       "<style scoped>\n",
       "    .dataframe tbody tr th:only-of-type {\n",
       "        vertical-align: middle;\n",
       "    }\n",
       "\n",
       "    .dataframe tbody tr th {\n",
       "        vertical-align: top;\n",
       "    }\n",
       "\n",
       "    .dataframe thead th {\n",
       "        text-align: right;\n",
       "    }\n",
       "</style>\n",
       "<table border=\"1\" class=\"dataframe\">\n",
       "  <thead>\n",
       "    <tr style=\"text-align: right;\">\n",
       "      <th></th>\n",
       "      <th>text</th>\n",
       "      <th>authors</th>\n",
       "      <th>tags</th>\n",
       "    </tr>\n",
       "  </thead>\n",
       "  <tbody>\n",
       "    <tr>\n",
       "      <th>0</th>\n",
       "      <td>“The world as we have created it is a process ...</td>\n",
       "      <td>Albert Einstein</td>\n",
       "      <td>change, deep-thoughts, thinking, world</td>\n",
       "    </tr>\n",
       "    <tr>\n",
       "      <th>1</th>\n",
       "      <td>“It is our choices, Harry, that show what we t...</td>\n",
       "      <td>J.K. Rowling</td>\n",
       "      <td>abilities, choices</td>\n",
       "    </tr>\n",
       "    <tr>\n",
       "      <th>2</th>\n",
       "      <td>“There are only two ways to live your life. On...</td>\n",
       "      <td>Albert Einstein</td>\n",
       "      <td>inspirational, life, live, miracle, miracles</td>\n",
       "    </tr>\n",
       "    <tr>\n",
       "      <th>3</th>\n",
       "      <td>“The person, be it gentleman or lady, who has ...</td>\n",
       "      <td>Jane Austen</td>\n",
       "      <td>aliteracy, books, classic, humor</td>\n",
       "    </tr>\n",
       "    <tr>\n",
       "      <th>4</th>\n",
       "      <td>“Imperfection is beauty, madness is genius and...</td>\n",
       "      <td>Marilyn Monroe</td>\n",
       "      <td>be-yourself, inspirational</td>\n",
       "    </tr>\n",
       "    <tr>\n",
       "      <th>5</th>\n",
       "      <td>“Try not to become a man of success. Rather be...</td>\n",
       "      <td>Albert Einstein</td>\n",
       "      <td>adulthood, success, value</td>\n",
       "    </tr>\n",
       "    <tr>\n",
       "      <th>6</th>\n",
       "      <td>“It is better to be hated for what you are tha...</td>\n",
       "      <td>André Gide</td>\n",
       "      <td>life, love</td>\n",
       "    </tr>\n",
       "    <tr>\n",
       "      <th>7</th>\n",
       "      <td>“I have not failed. I've just found 10,000 way...</td>\n",
       "      <td>Thomas A. Edison</td>\n",
       "      <td>edison, failure, inspirational, paraphrased</td>\n",
       "    </tr>\n",
       "    <tr>\n",
       "      <th>8</th>\n",
       "      <td>“A woman is like a tea bag; you never know how...</td>\n",
       "      <td>Eleanor Roosevelt</td>\n",
       "      <td>misattributed-eleanor-roosevelt</td>\n",
       "    </tr>\n",
       "    <tr>\n",
       "      <th>9</th>\n",
       "      <td>“A day without sunshine is like, you know, nig...</td>\n",
       "      <td>Steve Martin</td>\n",
       "      <td>humor, obvious, simile</td>\n",
       "    </tr>\n",
       "  </tbody>\n",
       "</table>\n",
       "</div>"
      ],
      "text/plain": [
       "                                                text            authors  \\\n",
       "0  “The world as we have created it is a process ...    Albert Einstein   \n",
       "1  “It is our choices, Harry, that show what we t...       J.K. Rowling   \n",
       "2  “There are only two ways to live your life. On...    Albert Einstein   \n",
       "3  “The person, be it gentleman or lady, who has ...        Jane Austen   \n",
       "4  “Imperfection is beauty, madness is genius and...     Marilyn Monroe   \n",
       "5  “Try not to become a man of success. Rather be...    Albert Einstein   \n",
       "6  “It is better to be hated for what you are tha...         André Gide   \n",
       "7  “I have not failed. I've just found 10,000 way...   Thomas A. Edison   \n",
       "8  “A woman is like a tea bag; you never know how...  Eleanor Roosevelt   \n",
       "9  “A day without sunshine is like, you know, nig...       Steve Martin   \n",
       "\n",
       "                                           tags  \n",
       "0        change, deep-thoughts, thinking, world  \n",
       "1                            abilities, choices  \n",
       "2  inspirational, life, live, miracle, miracles  \n",
       "3              aliteracy, books, classic, humor  \n",
       "4                    be-yourself, inspirational  \n",
       "5                     adulthood, success, value  \n",
       "6                                    life, love  \n",
       "7   edison, failure, inspirational, paraphrased  \n",
       "8               misattributed-eleanor-roosevelt  \n",
       "9                        humor, obvious, simile  "
      ]
     },
     "execution_count": 3,
     "metadata": {},
     "output_type": "execute_result"
    }
   ],
   "source": [
    "# создаем датафрейм\n",
    "df = pd.DataFrame(data=result)\n",
    "# уберем лишние символы\n",
    "for i, n in enumerate(df['tags']):\n",
    "    df['tags'][i] = str(df['tags'][i]).replace('[','').replace(']','').replace(\"'\",'')\n",
    "    \n",
    "df.head(10)\n"
   ]
  },
  {
   "cell_type": "markdown",
   "id": "ffd7a2c7",
   "metadata": {},
   "source": [
    "**Это дополнительное задание, оно не обязательное и не будет оцениваться.**\n",
    "\n",
    "3. Используя API, написать код программы, которая показывает с каким друзьями VK у Вас есть общие интересы (состоите в одинаковых сообществах). Вывод результата списком (первые 50 записей) - Имя Ф.: количество общих интересов.\n",
    "4. Получить список \"друзья друзей\" вашего профиля Vk, который проранжирован по количеству общих интересов с Вами. Вывод результата списком (первые 50 записей) - Имя Ф.: количество общих интересов.\n",
    "\n",
    "После выполнения кода ячейки замените Api Key на ***. "
   ]
  }
 ],
 "metadata": {
  "kernelspec": {
   "display_name": "Python 3 (ipykernel)",
   "language": "python",
   "name": "python3"
  },
  "language_info": {
   "codemirror_mode": {
    "name": "ipython",
    "version": 3
   },
   "file_extension": ".py",
   "mimetype": "text/x-python",
   "name": "python",
   "nbconvert_exporter": "python",
   "pygments_lexer": "ipython3",
   "version": "3.9.7"
  }
 },
 "nbformat": 4,
 "nbformat_minor": 5
}
