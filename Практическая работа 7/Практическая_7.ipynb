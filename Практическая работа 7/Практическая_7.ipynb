{
 "cells": [
  {
   "cell_type": "markdown",
   "id": "110580f2",
   "metadata": {},
   "source": [
    "# Практическое задание 7. Разработка рекомендательной системы на Python"
   ]
  },
    {
   "cell_type": "markdown",
   "id": "269ccdbe",
   "metadata": {},
   "source": [
    "**Инструкция:**\n",
    "\n",
    "- Шаг 1.  Изучите материалы лекционных и практических занятий по теме 11.3. \n",
    "- Шаг 2. Постройте рекомендательную систему на примере данных о покупках. Исходные файлы: recommend_1.csv, trx_data.csv \n",
    "   * **recommend_1.csv** список из 1000 идентификаторов клиентов, рекомендуемых в качестве выходных данных.\n",
    "   * **trx_data.csv** пользовательские транзакции\n",
    "\n",
    "- Шаг 3. Реализуйте коллаборативную фильтрацию данных на основе пользователей. Используйте модель kNN. Проверить модель на покупателях с customer_id = 4 и customer_id = 21.\n",
    "- Шаг 4. Опубликуйте файл расширения ipynb на платформе Odin."
   ]
  },
  {
   "cell_type": "markdown",
   "id": "f93246f2",
   "metadata": {},
   "source": [
    "У сети продуктовых магазинов разрабатывается новое мобильное приложение, позволяющее покупателям размещать заказы еще до того, как они зайдут в магазин.\n",
    "\n",
    "В приложении должна быть возможность показывать рекомендации: когда покупатель впервые нажимает на страницу «заказ», мы можем порекомендовать добавить в его корзину 10 лучших товаров, например, одноразовую посуду, свежее мясо, чипсы и т. д.\n",
    "\n",
    "**Цель работы: получить список рекомендаций для указанного пользователя**, например:\n",
    "\n",
    "Входные данные: идентификатор клиента\n",
    "\n",
    "Результат: ранжированный список товаров (идентификаторов продуктов), которые пользователь, скорее всего, захочет положить в свою (пустую) «корзину»."
   ]
  },
  {
   "cell_type": "code",
   "execution_count": 1,
   "id": "420b5fea",
   "metadata": {},
   "outputs": [],
   "source": [
    "import pandas as pd\n",
    "import numpy as np\n",
    "from sklearn.neighbors import NearestNeighbors\n",
    "from scipy.sparse import csr_matrix\n",
    "\n",
    "import warnings\n",
    "warnings.filterwarnings('ignore')"
   ]
  },
  {
   "cell_type": "code",
   "execution_count": 2,
   "id": "d7a5c544",
   "metadata": {},
   "outputs": [],
   "source": [
    "customers = pd.read_csv('recommend_1.csv')\n",
    "transactions = pd.read_csv('trx_data.csv')"
   ]
  },
  {
   "cell_type": "markdown",
   "id": "b52ae57f",
   "metadata": {},
   "source": [
    "# Приведем данные покупок для каждого пользователя в надлежащий вид"
   ]
  },
  {
   "cell_type": "code",
   "execution_count": 3,
   "id": "4793f105",
   "metadata": {},
   "outputs": [
    {
     "data": {
      "text/html": [
       "<div>\n",
       "<style scoped>\n",
       "    .dataframe tbody tr th:only-of-type {\n",
       "        vertical-align: middle;\n",
       "    }\n",
       "\n",
       "    .dataframe tbody tr th {\n",
       "        vertical-align: top;\n",
       "    }\n",
       "\n",
       "    .dataframe thead th {\n",
       "        text-align: right;\n",
       "    }\n",
       "</style>\n",
       "<table border=\"1\" class=\"dataframe\">\n",
       "  <thead>\n",
       "    <tr style=\"text-align: right;\">\n",
       "      <th></th>\n",
       "      <th>customerId</th>\n",
       "      <th>products</th>\n",
       "    </tr>\n",
       "  </thead>\n",
       "  <tbody>\n",
       "    <tr>\n",
       "      <th>0</th>\n",
       "      <td>0</td>\n",
       "      <td>20,216,52,260,93,93,93,69,69,1,1,31,31,260,256...</td>\n",
       "    </tr>\n",
       "    <tr>\n",
       "      <th>1</th>\n",
       "      <td>1</td>\n",
       "      <td>2,2,23,68,68,111,29,86,107,152,2,2,151,61,86,8...</td>\n",
       "    </tr>\n",
       "    <tr>\n",
       "      <th>2</th>\n",
       "      <td>2</td>\n",
       "      <td>111,107,29,11,11,11,33,23</td>\n",
       "    </tr>\n",
       "    <tr>\n",
       "      <th>3</th>\n",
       "      <td>3</td>\n",
       "      <td>164,227,196,196,196,196,196,196,121,227,55,100,25</td>\n",
       "    </tr>\n",
       "    <tr>\n",
       "      <th>4</th>\n",
       "      <td>4</td>\n",
       "      <td>199,289,196,15,15,200,143,270</td>\n",
       "    </tr>\n",
       "    <tr>\n",
       "      <th>...</th>\n",
       "      <td>...</td>\n",
       "      <td>...</td>\n",
       "    </tr>\n",
       "    <tr>\n",
       "      <th>24424</th>\n",
       "      <td>28593</td>\n",
       "      <td>130,119,119,53,53</td>\n",
       "    </tr>\n",
       "    <tr>\n",
       "      <th>24425</th>\n",
       "      <td>28596</td>\n",
       "      <td>25,15,255,20,10,211,211,211</td>\n",
       "    </tr>\n",
       "    <tr>\n",
       "      <th>24426</th>\n",
       "      <td>28598</td>\n",
       "      <td>212</td>\n",
       "    </tr>\n",
       "    <tr>\n",
       "      <th>24427</th>\n",
       "      <td>28604</td>\n",
       "      <td>282</td>\n",
       "    </tr>\n",
       "    <tr>\n",
       "      <th>24428</th>\n",
       "      <td>28605</td>\n",
       "      <td>92</td>\n",
       "    </tr>\n",
       "  </tbody>\n",
       "</table>\n",
       "<p>24429 rows × 2 columns</p>\n",
       "</div>"
      ],
      "text/plain": [
       "       customerId                                           products\n",
       "0               0  20,216,52,260,93,93,93,69,69,1,1,31,31,260,256...\n",
       "1               1  2,2,23,68,68,111,29,86,107,152,2,2,151,61,86,8...\n",
       "2               2                          111,107,29,11,11,11,33,23\n",
       "3               3  164,227,196,196,196,196,196,196,121,227,55,100,25\n",
       "4               4                      199,289,196,15,15,200,143,270\n",
       "...           ...                                                ...\n",
       "24424       28593                                  130,119,119,53,53\n",
       "24425       28596                        25,15,255,20,10,211,211,211\n",
       "24426       28598                                                212\n",
       "24427       28604                                                282\n",
       "24428       28605                                                 92\n",
       "\n",
       "[24429 rows x 2 columns]"
      ]
     },
     "execution_count": 3,
     "metadata": {},
     "output_type": "execute_result"
    }
   ],
   "source": [
    "transactions['products'] = transactions['products'].str.replace('|',',')\n",
    "transactions = transactions.groupby(['customerId'])['products'].apply(','.join).reset_index()\n",
    "transactions"
   ]
  },
  {
   "cell_type": "markdown",
   "id": "b79288d0",
   "metadata": {},
   "source": [
    "# Посчитаем сколько и какие товары купили пользователи"
   ]
  },
  {
   "cell_type": "code",
   "execution_count": 4,
   "id": "c4d7267c",
   "metadata": {},
   "outputs": [],
   "source": [
    "matrix = {}\n",
    "for i in range(0, len(transactions)):\n",
    "    products = transactions.products[i].split(',')\n",
    "    matrix[transactions['customerId'][i]] = {}\n",
    "    for j in transactions.products[i].split(','):\n",
    "        if j in matrix[transactions['customerId'][i]].keys():\n",
    "            matrix[transactions['customerId'][i]][j] += 1                   \n",
    "        else:\n",
    "            matrix[transactions['customerId'][i]].update({j : 1})            "
   ]
  },
  {
   "cell_type": "code",
   "execution_count": 5,
   "id": "e02135a2",
   "metadata": {},
   "outputs": [
    {
     "data": {
      "text/html": [
       "<div>\n",
       "<style scoped>\n",
       "    .dataframe tbody tr th:only-of-type {\n",
       "        vertical-align: middle;\n",
       "    }\n",
       "\n",
       "    .dataframe tbody tr th {\n",
       "        vertical-align: top;\n",
       "    }\n",
       "\n",
       "    .dataframe thead th {\n",
       "        text-align: right;\n",
       "    }\n",
       "</style>\n",
       "<table border=\"1\" class=\"dataframe\">\n",
       "  <thead>\n",
       "    <tr style=\"text-align: right;\">\n",
       "      <th></th>\n",
       "      <th>user_id</th>\n",
       "      <th>product_id</th>\n",
       "      <th>quantity</th>\n",
       "    </tr>\n",
       "  </thead>\n",
       "  <tbody>\n",
       "    <tr>\n",
       "      <th>0</th>\n",
       "      <td>0</td>\n",
       "      <td>20</td>\n",
       "      <td>1</td>\n",
       "    </tr>\n",
       "    <tr>\n",
       "      <th>1</th>\n",
       "      <td>0</td>\n",
       "      <td>216</td>\n",
       "      <td>1</td>\n",
       "    </tr>\n",
       "    <tr>\n",
       "      <th>2</th>\n",
       "      <td>0</td>\n",
       "      <td>52</td>\n",
       "      <td>1</td>\n",
       "    </tr>\n",
       "    <tr>\n",
       "      <th>3</th>\n",
       "      <td>0</td>\n",
       "      <td>260</td>\n",
       "      <td>5</td>\n",
       "    </tr>\n",
       "    <tr>\n",
       "      <th>4</th>\n",
       "      <td>0</td>\n",
       "      <td>93</td>\n",
       "      <td>3</td>\n",
       "    </tr>\n",
       "    <tr>\n",
       "      <th>...</th>\n",
       "      <td>...</td>\n",
       "      <td>...</td>\n",
       "      <td>...</td>\n",
       "    </tr>\n",
       "    <tr>\n",
       "      <th>133580</th>\n",
       "      <td>28596</td>\n",
       "      <td>10</td>\n",
       "      <td>1</td>\n",
       "    </tr>\n",
       "    <tr>\n",
       "      <th>133581</th>\n",
       "      <td>28596</td>\n",
       "      <td>211</td>\n",
       "      <td>3</td>\n",
       "    </tr>\n",
       "    <tr>\n",
       "      <th>133582</th>\n",
       "      <td>28598</td>\n",
       "      <td>212</td>\n",
       "      <td>1</td>\n",
       "    </tr>\n",
       "    <tr>\n",
       "      <th>133583</th>\n",
       "      <td>28604</td>\n",
       "      <td>282</td>\n",
       "      <td>1</td>\n",
       "    </tr>\n",
       "    <tr>\n",
       "      <th>133584</th>\n",
       "      <td>28605</td>\n",
       "      <td>92</td>\n",
       "      <td>1</td>\n",
       "    </tr>\n",
       "  </tbody>\n",
       "</table>\n",
       "<p>133585 rows × 3 columns</p>\n",
       "</div>"
      ],
      "text/plain": [
       "        user_id product_id  quantity\n",
       "0             0         20         1\n",
       "1             0        216         1\n",
       "2             0         52         1\n",
       "3             0        260         5\n",
       "4             0         93         3\n",
       "...         ...        ...       ...\n",
       "133580    28596         10         1\n",
       "133581    28596        211         3\n",
       "133582    28598        212         1\n",
       "133583    28604        282         1\n",
       "133584    28605         92         1\n",
       "\n",
       "[133585 rows x 3 columns]"
      ]
     },
     "execution_count": 5,
     "metadata": {},
     "output_type": "execute_result"
    }
   ],
   "source": [
    "df = pd.concat({k: pd.Series(v) for k, v in matrix.items()}).reset_index()  \n",
    "df.columns = ['user_id', 'product_id','quantity']\n",
    "df['product_id'].astype(np.int64)\n",
    "df"
   ]
  },
  {
   "cell_type": "markdown",
   "id": "ecef9f1b",
   "metadata": {},
   "source": [
    "# Обучение модели"
   ]
  },
  {
   "cell_type": "code",
   "execution_count": 6,
   "id": "fa6e7437",
   "metadata": {
    "scrolled": true
   },
   "outputs": [],
   "source": [
    "df_pivot = df.pivot(index = 'product_id', columns = 'user_id', values = 'quantity').fillna(0)\n",
    "df_matrix = csr_matrix(df_pivot.values)"
   ]
  },
  {
   "cell_type": "code",
   "execution_count": 7,
   "id": "69c819b0",
   "metadata": {},
   "outputs": [
    {
     "data": {
      "text/plain": [
       "NearestNeighbors(algorithm='brute', metric='cosine')"
      ]
     },
     "execution_count": 7,
     "metadata": {},
     "output_type": "execute_result"
    }
   ],
   "source": [
    "model_knn = NearestNeighbors(metric = 'cosine', algorithm = 'brute')\n",
    "model_knn.fit(df_matrix)"
   ]
  },
  {
   "cell_type": "markdown",
   "id": "8914fcd5",
   "metadata": {},
   "source": [
    "# Получение рекомендаций для пользователя"
   ]
  },
  {
   "cell_type": "code",
   "execution_count": 8,
   "id": "f7a3942f",
   "metadata": {},
   "outputs": [],
   "source": [
    "def find_recommendations(user_id):\n",
    "    print('Recommendation for user ', user_id)\n",
    "    distances, indices = model_knn.kneighbors(df_pivot.iloc[user_id,:].values.reshape(1, -1), n_neighbors = 6)\n",
    "    rec_users = []\n",
    "    for i in range(1, len(indices.flatten())):\n",
    "        rec_users.append(indices.flatten()[i])\n",
    "    df1 = df.loc[df['user_id'].isin(rec_users)].groupby('product_id').sum().sort_values(by=['quantity'], ascending=False)[:10].index.values\n",
    "    print(df1)\n",
    "    "
   ]
  },
  {
   "cell_type": "code",
   "execution_count": 9,
   "id": "083ee675",
   "metadata": {},
   "outputs": [
    {
     "name": "stdout",
     "output_type": "stream",
     "text": [
      "Recommendation for user  4\n",
      "['241' '2' '231' '6' '0' '151' '10' '86' '128' '72']\n"
     ]
    }
   ],
   "source": [
    "find_recommendations(4)"
   ]
  },
  {
   "cell_type": "code",
   "execution_count": 10,
   "id": "ba87e9d9",
   "metadata": {},
   "outputs": [
    {
     "name": "stdout",
     "output_type": "stream",
     "text": [
      "Recommendation for user  21\n",
      "['273' '34' '231' '2' '11' '112' '172' '27' '38' '42']\n"
     ]
    }
   ],
   "source": [
    "find_recommendations(21)"
   ]
  }
 ],
 "metadata": {
  "kernelspec": {
   "display_name": "Python 3 (ipykernel)",
   "language": "python",
   "name": "python3"
  },
  "language_info": {
   "codemirror_mode": {
    "name": "ipython",
    "version": 3
   },
   "file_extension": ".py",
   "mimetype": "text/x-python",
   "name": "python",
   "nbconvert_exporter": "python",
   "pygments_lexer": "ipython3",
   "version": "3.9.7"
  }
 },
 "nbformat": 4,
 "nbformat_minor": 5
}
